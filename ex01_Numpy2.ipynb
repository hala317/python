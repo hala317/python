{
 "cells": [
  {
   "cell_type": "code",
   "execution_count": 2,
   "id": "469f22ec",
   "metadata": {},
   "outputs": [],
   "source": [
    "# numpy 라이브러리 import하기\n",
    "# 앞으로 np라는 이름으로 부르기\n",
    "import numpy as np"
   ]
  },
  {
   "cell_type": "code",
   "execution_count": 3,
   "id": "29c719a2",
   "metadata": {},
   "outputs": [
    {
     "data": {
      "text/plain": [
       "[1, 2, 3, 4, 5]"
      ]
     },
     "execution_count": 3,
     "metadata": {},
     "output_type": "execute_result"
    }
   ],
   "source": [
    "list1=[1,2, 3, 4, 5]\n",
    "list1"
   ]
  },
  {
   "cell_type": "code",
   "execution_count": 4,
   "id": "da039bdb",
   "metadata": {},
   "outputs": [
    {
     "data": {
      "text/plain": [
       "array([1, 2, 3, 4, 5])"
      ]
     },
     "execution_count": 4,
     "metadata": {},
     "output_type": "execute_result"
    }
   ],
   "source": [
    "#array생성하기\n",
    "arr=np.array(list1)\n",
    "arr"
   ]
  },
  {
   "cell_type": "code",
   "execution_count": 5,
   "id": "64c86462",
   "metadata": {},
   "outputs": [
    {
     "data": {
      "text/plain": [
       "array([1, 2, 3, 4, 5])"
      ]
     },
     "execution_count": 5,
     "metadata": {},
     "output_type": "execute_result"
    }
   ],
   "source": [
    "arr1 = np.array([1,2,3,4,5])\n",
    "arr1"
   ]
  },
  {
   "cell_type": "code",
   "execution_count": 6,
   "id": "d6eab6c3",
   "metadata": {},
   "outputs": [],
   "source": [
    "#리스트\n",
    "#[1,2,3] , [4,5,6] 각 요성의 값을 더한다."
   ]
  },
  {
   "cell_type": "code",
   "execution_count": 7,
   "id": "0ae53b28",
   "metadata": {},
   "outputs": [],
   "source": [
    "list1 = [1,2,3]\n",
    "list2 = [4,5,6]\n"
   ]
  },
  {
   "cell_type": "code",
   "execution_count": 8,
   "id": "38ed4ae4",
   "metadata": {},
   "outputs": [],
   "source": [
    "arr3 = np.array(list1)\n",
    "arr4 = np.array(list2)"
   ]
  },
  {
   "cell_type": "code",
   "execution_count": 9,
   "id": "d6d4150a",
   "metadata": {},
   "outputs": [
    {
     "data": {
      "text/plain": [
       "array([5, 7, 9])"
      ]
     },
     "execution_count": 9,
     "metadata": {},
     "output_type": "execute_result"
    }
   ],
   "source": [
    "arr5 = arr3 + arr4\n",
    "arr5"
   ]
  },
  {
   "cell_type": "code",
   "execution_count": 10,
   "id": "a7b69f6f",
   "metadata": {},
   "outputs": [],
   "source": [
    "#list3=[]\n",
    "#for i in range(3):\n",
    "#    list3.append(list1[i]+list2[i])\n",
    "#list3"
   ]
  },
  {
   "cell_type": "code",
   "execution_count": null,
   "id": "fcc56e3a",
   "metadata": {},
   "outputs": [],
   "source": []
  },
  {
   "cell_type": "code",
   "execution_count": 11,
   "id": "62e34a78",
   "metadata": {},
   "outputs": [
    {
     "data": {
      "text/plain": [
       "array([[1, 2, 3],\n",
       "       [4, 5, 6]])"
      ]
     },
     "execution_count": 11,
     "metadata": {},
     "output_type": "execute_result"
    }
   ],
   "source": [
    "#2차원 array 생성하기\n",
    "arr6 = np.array( [ [ 1,2,3 ],[ 4,5,6 ] ] )\n",
    "arr6"
   ]
  },
  {
   "cell_type": "code",
   "execution_count": 12,
   "id": "32c681a5",
   "metadata": {},
   "outputs": [
    {
     "data": {
      "text/plain": [
       "(2, 3)"
      ]
     },
     "execution_count": 12,
     "metadata": {},
     "output_type": "execute_result"
    }
   ],
   "source": [
    "#array 의 크기 확인하기\n",
    "#shape\n",
    "arr6.shape"
   ]
  },
  {
   "cell_type": "code",
   "execution_count": 13,
   "id": "b917e471",
   "metadata": {},
   "outputs": [
    {
     "data": {
      "text/plain": [
       "6"
      ]
     },
     "execution_count": 13,
     "metadata": {},
     "output_type": "execute_result"
    }
   ],
   "source": [
    "#array전체 요소 개수 확인하기\n",
    "#size \n",
    "arr6.size"
   ]
  },
  {
   "cell_type": "code",
   "execution_count": 14,
   "id": "8ec0cc64",
   "metadata": {},
   "outputs": [
    {
     "data": {
      "text/plain": [
       "dtype('int32')"
      ]
     },
     "execution_count": 14,
     "metadata": {},
     "output_type": "execute_result"
    }
   ],
   "source": [
    "#array 타입 확인하기\n",
    "#dtype\n",
    "arr6.dtype"
   ]
  },
  {
   "cell_type": "code",
   "execution_count": 15,
   "id": "4ea35ff2",
   "metadata": {},
   "outputs": [
    {
     "data": {
      "text/plain": [
       "2"
      ]
     },
     "execution_count": 15,
     "metadata": {},
     "output_type": "execute_result"
    }
   ],
   "source": [
    "#array 차원 확인하기\n",
    "#ndim\n",
    "arr6.ndim"
   ]
  },
  {
   "cell_type": "code",
   "execution_count": 16,
   "id": "16171996",
   "metadata": {},
   "outputs": [
    {
     "data": {
      "text/plain": [
       "array([[[1, 2],\n",
       "        [3, 4]],\n",
       "\n",
       "       [[5, 6],\n",
       "        [7, 8]]])"
      ]
     },
     "execution_count": 16,
     "metadata": {},
     "output_type": "execute_result"
    }
   ],
   "source": [
    "#3차원의 array 만들고 배열의 크기, 차원 , 전체 요소 개수 확인\n",
    "arr7 = np.array(   [   [   [1,2],[3,4]   ],[   [5,6],[7,8]   ]   ]   )\n",
    "arr7"
   ]
  },
  {
   "cell_type": "code",
   "execution_count": 17,
   "id": "72fbb039",
   "metadata": {},
   "outputs": [
    {
     "name": "stdout",
     "output_type": "stream",
     "text": [
      "배열의 크기 (2, 2, 2)\n"
     ]
    }
   ],
   "source": [
    "print('배열의 크기', arr7.shape)"
   ]
  },
  {
   "cell_type": "code",
   "execution_count": 18,
   "id": "d567eb55",
   "metadata": {},
   "outputs": [
    {
     "name": "stdout",
     "output_type": "stream",
     "text": [
      "배열의 요소개수 8\n"
     ]
    }
   ],
   "source": [
    "print('배열의 요소개수' , arr7.size)"
   ]
  },
  {
   "cell_type": "code",
   "execution_count": 19,
   "id": "c2649826",
   "metadata": {},
   "outputs": [
    {
     "name": "stdout",
     "output_type": "stream",
     "text": [
      "배열의 차원 3\n"
     ]
    }
   ],
   "source": [
    "print('배열의 차원', arr7.ndim)"
   ]
  },
  {
   "cell_type": "code",
   "execution_count": 20,
   "id": "c818b6f5",
   "metadata": {},
   "outputs": [
    {
     "name": "stdout",
     "output_type": "stream",
     "text": [
      "배열의 타입 int32\n"
     ]
    }
   ],
   "source": [
    "print('배열의 타입', arr7.dtype)"
   ]
  },
  {
   "cell_type": "code",
   "execution_count": 21,
   "id": "5bfe2911",
   "metadata": {},
   "outputs": [
    {
     "name": "stdout",
     "output_type": "stream",
     "text": [
      "배열의 크기:(2, 2, 2)\n",
      "배열의 차원:3\n",
      "배열의 개수: 8\n"
     ]
    }
   ],
   "source": [
    "print('배열의 크기:{}'.format(arr7.shape))\n",
    "print(f'배열의 차원:{arr7.ndim}')\n",
    "print('배열의 개수:', arr7.size)"
   ]
  },
  {
   "cell_type": "code",
   "execution_count": 22,
   "id": "6d8220e5",
   "metadata": {},
   "outputs": [
    {
     "data": {
      "text/plain": [
       "array([[0., 0., 0., 0.],\n",
       "       [0., 0., 0., 0.],\n",
       "       [0., 0., 0., 0.]])"
      ]
     },
     "execution_count": 22,
     "metadata": {},
     "output_type": "execute_result"
    }
   ],
   "source": [
    "#배열 생성하기\n",
    "\n",
    "# 0의 값으로 배열 생성하기  => 0으로 초기화\n",
    "# zeros(배열의 크기)\n",
    "np.zeros((3,4))"
   ]
  },
  {
   "cell_type": "code",
   "execution_count": 23,
   "id": "a651fe5b",
   "metadata": {},
   "outputs": [
    {
     "data": {
      "text/plain": [
       "array([[1., 1., 1., 1.],\n",
       "       [1., 1., 1., 1.],\n",
       "       [1., 1., 1., 1.]])"
      ]
     },
     "execution_count": 23,
     "metadata": {},
     "output_type": "execute_result"
    }
   ],
   "source": [
    "# 1 값으로 생성하기 => 1호 초기화\n",
    "#ones()\n",
    "np.ones((3,4))"
   ]
  },
  {
   "cell_type": "code",
   "execution_count": 24,
   "id": "1c1efb5b",
   "metadata": {},
   "outputs": [
    {
     "data": {
      "text/plain": [
       "array([[5, 5, 5, 5],\n",
       "       [5, 5, 5, 5],\n",
       "       [5, 5, 5, 5]])"
      ]
     },
     "execution_count": 24,
     "metadata": {},
     "output_type": "execute_result"
    }
   ],
   "source": [
    "#지정해서 생성하기\n",
    "#full(배열의 크기, 채워넣을 값)\n",
    "np.full((3,4),5)\n",
    "       # 3개의 배열 4개의 값이 들어갈수 있게 , 5 라는 값으로 넣어서 만들어라~~~  \n"
   ]
  },
  {
   "cell_type": "code",
   "execution_count": 25,
   "id": "a834904d",
   "metadata": {},
   "outputs": [
    {
     "data": {
      "text/plain": [
       "array([ 1, 11, 21, 31, 41])"
      ]
     },
     "execution_count": 25,
     "metadata": {},
     "output_type": "execute_result"
    }
   ],
   "source": [
    "#연속되는 숫자로 배열 생성하기\n",
    "#arange( 시작하는 수, 끝나는 수 +1, 간격이 되는 수)\n",
    "#시작되는 수 기본 값 : 0\n",
    "#간격이 되는 수 기본값 :1\n",
    "np.arange(1, 50+1, 10)"
   ]
  },
  {
   "cell_type": "code",
   "execution_count": 26,
   "id": "65e061d4",
   "metadata": {
    "scrolled": true
   },
   "outputs": [
    {
     "data": {
      "text/plain": [
       "array([ 1, 11, 21, 31, 41])"
      ]
     },
     "execution_count": 26,
     "metadata": {},
     "output_type": "execute_result"
    }
   ],
   "source": [
    "np.arange(1, 50, 10)"
   ]
  },
  {
   "cell_type": "code",
   "execution_count": 27,
   "id": "ba9e4b9f",
   "metadata": {},
   "outputs": [
    {
     "data": {
      "text/plain": [
       "array([ 1, 11, 21, 31, 41])"
      ]
     },
     "execution_count": 27,
     "metadata": {},
     "output_type": "execute_result"
    }
   ],
   "source": [
    "np.arange(1,42,10)"
   ]
  },
  {
   "cell_type": "code",
   "execution_count": 29,
   "id": "65fb4b07",
   "metadata": {},
   "outputs": [
    {
     "data": {
      "text/plain": [
       "array([ 1.,  2.,  3.,  4.,  5.,  6.,  7.,  8.,  9., 10., 11., 12., 13.,\n",
       "       14., 15., 16., 17., 18., 19., 20., 21., 22., 23., 24., 25., 26.,\n",
       "       27., 28., 29., 30., 31., 32., 33., 34., 35., 36., 37., 38., 39.,\n",
       "       40., 41., 42., 43., 44., 45., 46., 47., 48., 49., 50.])"
      ]
     },
     "execution_count": 29,
     "metadata": {},
     "output_type": "execute_result"
    }
   ],
   "source": [
    "#1부터 50까지 1씩 커지는 배열 만들기\n",
    "#np.linspace(시작하는수, 끝나는 수, 등분할 값)\n",
    "\n",
    "#같은 간격만틈의 배열을 만들때 사용\n",
    "\n",
    "np.linspace(1,50,50)"
   ]
  },
  {
   "cell_type": "code",
   "execution_count": 31,
   "id": "591d27cc",
   "metadata": {},
   "outputs": [
    {
     "name": "stdout",
     "output_type": "stream",
     "text": [
      "1.0\n",
      "3.5789473684210527\n",
      "6.157894736842105\n",
      "8.736842105263158\n",
      "11.31578947368421\n",
      "13.894736842105264\n",
      "16.473684210526315\n",
      "19.05263157894737\n",
      "21.63157894736842\n",
      "24.210526315789473\n",
      "26.789473684210527\n",
      "29.36842105263158\n",
      "31.94736842105263\n",
      "34.526315789473685\n",
      "37.10526315789474\n",
      "39.68421052631579\n",
      "42.26315789473684\n",
      "44.8421052631579\n",
      "47.421052631578945\n",
      "50.0\n"
     ]
    }
   ],
   "source": [
    "#for문으로 사용할 수 있다. \n",
    "for i in np.linspace(1,50,20):\n",
    "    print(i)"
   ]
  },
  {
   "cell_type": "code",
   "execution_count": 32,
   "id": "e4f3f3e0",
   "metadata": {},
   "outputs": [
    {
     "data": {
      "text/plain": [
       "array([[0.47948632, 0.6763012 , 0.93950948],\n",
       "       [0.87648343, 0.24222092, 0.22736462]])"
      ]
     },
     "execution_count": 32,
     "metadata": {},
     "output_type": "execute_result"
    }
   ],
   "source": [
    "#랜덤값으로 배열 생성하기\n",
    "# np.random.rand(배열의 크기)\n",
    "# 0 ~ 1 사이의 값을 가지는 배열을 생성\n",
    "np.random.rand(2,3)"
   ]
  },
  {
   "cell_type": "code",
   "execution_count": 34,
   "id": "718627d7",
   "metadata": {},
   "outputs": [
    {
     "data": {
      "text/plain": [
       "array([[4, 3],\n",
       "       [7, 8],\n",
       "       [6, 6]])"
      ]
     },
     "execution_count": 34,
     "metadata": {},
     "output_type": "execute_result"
    }
   ],
   "source": [
    "#내가 원하는 범위 안에서 랜덤값 생성\n",
    "#np.random.randit(시작수, 끝수+1, size = 배열의 크기)\n",
    "\n",
    "np.random.randint(2,10,size=(3,2))"
   ]
  },
  {
   "cell_type": "code",
   "execution_count": 38,
   "id": "3c62d59b",
   "metadata": {},
   "outputs": [
    {
     "data": {
      "text/plain": [
       "(array([[0.1329847 , 0.26360026, 0.36853114, 0.67040817, 0.83427497,\n",
       "         0.08815366, 0.0333611 , 0.97667894, 0.91910292, 0.74013946],\n",
       "        [0.97175941, 0.31299074, 0.95404795, 0.11520977, 0.122742  ,\n",
       "         0.94414633, 0.75248567, 0.51844305, 0.82297856, 0.37082727]]),\n",
       " array([[8, 6, 3, 9],\n",
       "        [5, 4, 6, 7],\n",
       "        [2, 8, 5, 9],\n",
       "        [6, 5, 2, 9],\n",
       "        [6, 4, 2, 4]]))"
      ]
     },
     "execution_count": 38,
     "metadata": {},
     "output_type": "execute_result"
    }
   ],
   "source": [
    "#2부터 10까지의 런덤 실수값으로 이루어진 (5,4) 크기의 배열 생성\n",
    "\n",
    "np.random.rand(2,10) , np.random.randint(2,10, size=(5,4))"
   ]
  },
  {
   "cell_type": "code",
   "execution_count": 40,
   "id": "99bb01f5",
   "metadata": {},
   "outputs": [
    {
     "data": {
      "text/plain": [
       "array([[7, 2, 7, 4],\n",
       "       [9, 6, 6, 9],\n",
       "       [3, 3, 7, 8],\n",
       "       [3, 9, 7, 6],\n",
       "       [5, 9, 9, 6]])"
      ]
     },
     "execution_count": 40,
     "metadata": {},
     "output_type": "execute_result"
    }
   ],
   "source": [
    "#정수+소수점 = 실수\n",
    "정수 = np.random.randint(2,10 , size=(5,4))\n",
    "정수"
   ]
  },
  {
   "cell_type": "code",
   "execution_count": 41,
   "id": "a74c0e5d",
   "metadata": {},
   "outputs": [
    {
     "data": {
      "text/plain": [
       "array([[0.9418698 , 0.99594831, 0.03974279, 0.98450692],\n",
       "       [0.49183177, 0.94184123, 0.43506132, 0.02410503],\n",
       "       [0.59511425, 0.42664226, 0.62864937, 0.12772594],\n",
       "       [0.22621436, 0.35058713, 0.21594569, 0.36888681],\n",
       "       [0.55183373, 0.28830255, 0.16983368, 0.13995559]])"
      ]
     },
     "execution_count": 41,
     "metadata": {},
     "output_type": "execute_result"
    }
   ],
   "source": [
    "소수점 = np.random.rand(5,4)\n",
    "소수점"
   ]
  },
  {
   "cell_type": "code",
   "execution_count": 42,
   "id": "81a5956b",
   "metadata": {},
   "outputs": [
    {
     "data": {
      "text/plain": [
       "array([[7.9418698 , 2.99594831, 7.03974279, 4.98450692],\n",
       "       [9.49183177, 6.94184123, 6.43506132, 9.02410503],\n",
       "       [3.59511425, 3.42664226, 7.62864937, 8.12772594],\n",
       "       [3.22621436, 9.35058713, 7.21594569, 6.36888681],\n",
       "       [5.55183373, 9.28830255, 9.16983368, 6.13995559]])"
      ]
     },
     "execution_count": 42,
     "metadata": {},
     "output_type": "execute_result"
    }
   ],
   "source": [
    "실수=정수+소수점\n",
    "실수"
   ]
  },
  {
   "cell_type": "code",
   "execution_count": 47,
   "id": "d6df0b56",
   "metadata": {},
   "outputs": [
    {
     "name": "stdout",
     "output_type": "stream",
     "text": [
      "[[8.95200988 7.40168891 6.82786356 2.04870459]\n",
      " [9.47323286 9.92518498 7.24001561 8.97279167]\n",
      " [5.52147713 8.29891283 8.25519986 2.36364721]\n",
      " [7.10026691 8.70527536 4.38555053 4.59868106]\n",
      " [4.44356873 4.29247907 7.82363167 6.47186067]]\n"
     ]
    }
   ],
   "source": [
    "abc = np.random.rand(5,4) + np.random.randint(2,10, size=(5,4))\n",
    "print(abc)"
   ]
  },
  {
   "cell_type": "code",
   "execution_count": null,
   "id": "0af44c8d",
   "metadata": {},
   "outputs": [],
   "source": []
  },
  {
   "cell_type": "code",
   "execution_count": null,
   "id": "e4ac522e",
   "metadata": {},
   "outputs": [],
   "source": [
    "#타입 변경하기\n",
    "# 배열.astype(변경할 타입)\n"
   ]
  },
  {
   "cell_type": "code",
   "execution_count": 44,
   "id": "67ab5e7c",
   "metadata": {},
   "outputs": [
    {
     "data": {
      "text/plain": [
       "array([[7, 2, 7, 4],\n",
       "       [9, 6, 6, 9],\n",
       "       [3, 3, 7, 8],\n",
       "       [3, 9, 7, 6],\n",
       "       [5, 9, 9, 6]])"
      ]
     },
     "execution_count": 44,
     "metadata": {},
     "output_type": "execute_result"
    }
   ],
   "source": [
    "실수.astype('int')"
   ]
  },
  {
   "cell_type": "code",
   "execution_count": null,
   "id": "81e24617",
   "metadata": {},
   "outputs": [],
   "source": [
    "#배열의 생성"
   ]
  },
  {
   "cell_type": "code",
   "execution_count": null,
   "id": "d14067fc",
   "metadata": {},
   "outputs": [],
   "source": [
    "#배열의 기능"
   ]
  },
  {
   "cell_type": "code",
   "execution_count": 48,
   "id": "b785bf7a",
   "metadata": {},
   "outputs": [
    {
     "data": {
      "text/plain": [
       "array([[1, 2, 3],\n",
       "       [4, 5, 6]])"
      ]
     },
     "execution_count": 48,
     "metadata": {},
     "output_type": "execute_result"
    }
   ],
   "source": [
    "arr=np.array([[1,2,3],[4,5,6]])\n",
    "arr"
   ]
  },
  {
   "cell_type": "code",
   "execution_count": 53,
   "id": "cd03ff46",
   "metadata": {},
   "outputs": [
    {
     "data": {
      "text/plain": [
       "2"
      ]
     },
     "execution_count": 53,
     "metadata": {},
     "output_type": "execute_result"
    }
   ],
   "source": [
    "#인덱싱\n",
    "#[대괄호]\n",
    "# 2차원에서 0번째 출력\n",
    "arr[0]\n",
    "arr[0][1]"
   ]
  },
  {
   "cell_type": "code",
   "execution_count": 54,
   "id": "29a7b24a",
   "metadata": {},
   "outputs": [
    {
     "data": {
      "text/plain": [
       "2"
      ]
     },
     "execution_count": 54,
     "metadata": {},
     "output_type": "execute_result"
    }
   ],
   "source": [
    "arr[0,1]\n",
    "#2차원에서 1번 선택해서 1차원에서 1번째 선택"
   ]
  },
  {
   "cell_type": "code",
   "execution_count": null,
   "id": "89cb41f7",
   "metadata": {},
   "outputs": [],
   "source": [
    "#슬라이싱"
   ]
  },
  {
   "cell_type": "code",
   "execution_count": null,
   "id": "5804dbfb",
   "metadata": {},
   "outputs": [],
   "source": [
    "#0~9 까지의 값이 담긴 배열 생성"
   ]
  },
  {
   "cell_type": "code",
   "execution_count": 56,
   "id": "3cfae97b",
   "metadata": {},
   "outputs": [
    {
     "data": {
      "text/plain": [
       "array([0, 1, 2, 3, 4, 5, 6, 7, 8, 9])"
      ]
     },
     "execution_count": 56,
     "metadata": {},
     "output_type": "execute_result"
    }
   ],
   "source": [
    "arr1 = np.arange(10)\n",
    "arr1"
   ]
  },
  {
   "cell_type": "code",
   "execution_count": null,
   "id": "d6405ece",
   "metadata": {},
   "outputs": [],
   "source": [
    "# 3부터 7까지의 값 출력"
   ]
  },
  {
   "cell_type": "code",
   "execution_count": 61,
   "id": "aa0cc4d0",
   "metadata": {},
   "outputs": [
    {
     "data": {
      "text/plain": [
       "array([3, 4, 5, 6, 7])"
      ]
     },
     "execution_count": 61,
     "metadata": {},
     "output_type": "execute_result"
    }
   ],
   "source": [
    "arr1[3:8]"
   ]
  },
  {
   "cell_type": "code",
   "execution_count": 62,
   "id": "2dd2e5f3",
   "metadata": {},
   "outputs": [
    {
     "data": {
      "text/plain": [
       "array([ 0,  1,  2,  3,  4,  5,  6,  7,  8,  9, 10, 11, 12, 13, 14, 15, 16,\n",
       "       17, 18, 19, 20, 21, 22, 23, 24, 25, 26, 27, 28, 29, 30, 31, 32, 33,\n",
       "       34, 35, 36, 37, 38, 39, 40, 41, 42, 43, 44, 45, 46, 47, 48, 49])"
      ]
     },
     "execution_count": 62,
     "metadata": {},
     "output_type": "execute_result"
    }
   ],
   "source": [
    "#2차원 슬라이싱\n",
    "# 0~49까지 정수의 값이 담겨있는 array생성하기\n",
    "arr2=np.arange(50)\n",
    "arr2"
   ]
  },
  {
   "cell_type": "code",
   "execution_count": 66,
   "id": "6823b9c4",
   "metadata": {},
   "outputs": [],
   "source": [
    "#arr2를 (5,10)으로 재 배열하기\n",
    "#reshape\n",
    "#바뀌기 전과 후의 데이터 수가 똑같아야함\n",
    "\n",
    "#arr2.reshape(5,10)\n",
    "#출력을 진행하고 저장은 진행되지 않음, 변수에 담아줘야 저장이 됨\n",
    "arr2 = arr2.reshape(5,10)"
   ]
  },
  {
   "cell_type": "code",
   "execution_count": 67,
   "id": "40a5c64c",
   "metadata": {},
   "outputs": [
    {
     "data": {
      "text/plain": [
       "array([[ 0,  1,  2,  3,  4,  5,  6,  7,  8,  9],\n",
       "       [10, 11, 12, 13, 14, 15, 16, 17, 18, 19],\n",
       "       [20, 21, 22, 23, 24, 25, 26, 27, 28, 29],\n",
       "       [30, 31, 32, 33, 34, 35, 36, 37, 38, 39],\n",
       "       [40, 41, 42, 43, 44, 45, 46, 47, 48, 49]])"
      ]
     },
     "execution_count": 67,
     "metadata": {},
     "output_type": "execute_result"
    }
   ],
   "source": [
    "#2차원 슬라이싱\n",
    "arr2"
   ]
  },
  {
   "cell_type": "code",
   "execution_count": null,
   "id": "8ec90f02",
   "metadata": {},
   "outputs": [],
   "source": [
    "# [고차원, 1차원]"
   ]
  },
  {
   "cell_type": "code",
   "execution_count": null,
   "id": "cc43bf53",
   "metadata": {},
   "outputs": [],
   "source": [
    "#어떤식의 인덱스 번호가 부여 되어 있는지 확인 \n",
    "#"
   ]
  },
  {
   "cell_type": "code",
   "execution_count": 68,
   "id": "23f4318d",
   "metadata": {},
   "outputs": [
    {
     "data": {
      "text/plain": [
       "array([[ 0,  1,  2,  3,  4,  5,  6,  7,  8,  9],\n",
       "       [10, 11, 12, 13, 14, 15, 16, 17, 18, 19]])"
      ]
     },
     "execution_count": 68,
     "metadata": {},
     "output_type": "execute_result"
    }
   ],
   "source": [
    "arr2[0:2]"
   ]
  },
  {
   "cell_type": "code",
   "execution_count": 69,
   "id": "bf7110de",
   "metadata": {},
   "outputs": [
    {
     "data": {
      "text/plain": [
       "array([[ 0,  1,  2,  3,  4,  5,  6,  7,  8,  9],\n",
       "       [10, 11, 12, 13, 14, 15, 16, 17, 18, 19]])"
      ]
     },
     "execution_count": 69,
     "metadata": {},
     "output_type": "execute_result"
    }
   ],
   "source": [
    "arr2[0:2, 0:10]   #위와 같은 출력"
   ]
  },
  {
   "cell_type": "code",
   "execution_count": 70,
   "id": "4759b401",
   "metadata": {},
   "outputs": [
    {
     "data": {
      "text/plain": [
       "array([[ 0,  1,  2,  3,  4,  5,  6,  7,  8,  9],\n",
       "       [10, 11, 12, 13, 14, 15, 16, 17, 18, 19]])"
      ]
     },
     "execution_count": 70,
     "metadata": {},
     "output_type": "execute_result"
    }
   ],
   "source": [
    "#전체 출력\n",
    "#시작수 : 끝수+1\n",
    "# : 끝수 +1 =처음부터 끈수까지\n",
    "# 시작수 : = 시작수부터 끝까지\n",
    "# : = 처음부터 끝까지\n",
    "arr2[0:2, :]"
   ]
  },
  {
   "cell_type": "code",
   "execution_count": 75,
   "id": "c510b01f",
   "metadata": {},
   "outputs": [
    {
     "data": {
      "text/plain": [
       "array([[ 0,  1,  2,  3,  4],\n",
       "       [10, 11, 12, 13, 14],\n",
       "       [20, 21, 22, 23, 24],\n",
       "       [30, 31, 32, 33, 34]])"
      ]
     },
     "execution_count": 75,
     "metadata": {},
     "output_type": "execute_result"
    }
   ],
   "source": [
    "arr2[0:4, 0:5]   #[:4, :5]"
   ]
  },
  {
   "cell_type": "code",
   "execution_count": 74,
   "id": "c5aa77c5",
   "metadata": {},
   "outputs": [
    {
     "data": {
      "text/plain": [
       "array([[ 0],\n",
       "       [10],\n",
       "       [20],\n",
       "       [30],\n",
       "       [40]])"
      ]
     },
     "execution_count": 74,
     "metadata": {},
     "output_type": "execute_result"
    }
   ],
   "source": [
    "arr2[0:5, 0:1]   #[:,0]"
   ]
  },
  {
   "cell_type": "code",
   "execution_count": null,
   "id": "a01dc2f5",
   "metadata": {},
   "outputs": [],
   "source": []
  },
  {
   "cell_type": "code",
   "execution_count": null,
   "id": "d668ccaf",
   "metadata": {},
   "outputs": [],
   "source": [
    "# 위 키(cm)\n",
    "#아래 몸무게(kg)\n",
    "# 10개의 데이터\n",
    "#bmi 계산하기\n"
   ]
  },
  {
   "cell_type": "code",
   "execution_count": 78,
   "id": "20cd3c4f",
   "metadata": {},
   "outputs": [
    {
     "data": {
      "text/plain": [
       "array([[175.2, 180.3, 175. , 169.2, 185.2, 188. , 177.6, 178.2, 177. ,\n",
       "        179. ],\n",
       "       [ 65.6,  88. ,  79.2,  69.3,  55. ,  71.2,  73. ,  68.9,  74. ,\n",
       "         82. ]])"
      ]
     },
     "execution_count": 78,
     "metadata": {},
     "output_type": "execute_result"
    }
   ],
   "source": [
    "#파일 불러오기\n",
    "\n",
    "data = np.loadtxt('height_weight.txt', delimiter=',')\n",
    "data\n"
   ]
  },
  {
   "cell_type": "code",
   "execution_count": null,
   "id": "6a907ff9",
   "metadata": {},
   "outputs": [],
   "source": []
  },
  {
   "cell_type": "code",
   "execution_count": 108,
   "id": "edcfb721",
   "metadata": {
    "scrolled": true
   },
   "outputs": [
    {
     "ename": "SyntaxError",
     "evalue": "invalid syntax (Temp/ipykernel_9536/1216300796.py, line 6)",
     "output_type": "error",
     "traceback": [
      "\u001b[1;36m  File \u001b[1;32m\"C:\\Users\\smhrd\\AppData\\Local\\Temp/ipykernel_9536/1216300796.py\"\u001b[1;36m, line \u001b[1;32m6\u001b[0m\n\u001b[1;33m    print(bmi)\u001b[0m\n\u001b[1;37m    ^\u001b[0m\n\u001b[1;31mSyntaxError\u001b[0m\u001b[1;31m:\u001b[0m invalid syntax\n"
     ]
    }
   ],
   "source": [
    "bmi=[]\n",
    "\n",
    "for i in range(0,10):\n",
    "    bmi.append(data[1,i]/(data[0,i]/data[0,i]*10000)\n",
    "\n",
    "print(bmi)\n",
    "\n",
    "\n",
    "#print(round(bmi, 8))  소수점 맞추어 주기"
   ]
  },
  {
   "cell_type": "code",
   "execution_count": 131,
   "id": "46586e94",
   "metadata": {
    "scrolled": true
   },
   "outputs": [
    {
     "name": "stdout",
     "output_type": "stream",
     "text": [
      "format example4 : 10.12 / 3.2\n"
     ]
    }
   ],
   "source": [
    "d = \"format example4 : {1:.2f} / {0:.1f}\".format(3.22521321, 10.123456)\n",
    "print(d)"
   ]
  },
  {
   "cell_type": "code",
   "execution_count": 88,
   "id": "18c2d0fa",
   "metadata": {},
   "outputs": [
    {
     "data": {
      "text/plain": [
       "array([21.37153104, 27.07018468, 25.86122449, 24.20652885, 16.03543423,\n",
       "       20.14486193, 23.14392095, 21.69720651, 23.62028791, 25.59220998])"
      ]
     },
     "execution_count": 88,
     "metadata": {},
     "output_type": "execute_result"
    }
   ],
   "source": [
    "height=data[0] /100\n",
    "weight=data[1]\n",
    "bmi = weight/ height**2\n",
    "bmi"
   ]
  },
  {
   "cell_type": "code",
   "execution_count": 95,
   "id": "baf5c237",
   "metadata": {},
   "outputs": [
    {
     "data": {
      "text/plain": [
       "array([175.2, 180.3, 175. , 169.2, 185.2, 188. , 177.6, 178.2, 177. ,\n",
       "       179. ])"
      ]
     },
     "execution_count": 95,
     "metadata": {},
     "output_type": "execute_result"
    }
   ],
   "source": [
    "키_cm = data[0]\n",
    "키_cm"
   ]
  },
  {
   "cell_type": "code",
   "execution_count": 99,
   "id": "ceb2548f",
   "metadata": {},
   "outputs": [
    {
     "data": {
      "text/plain": [
       "array([1.752, 1.803, 1.75 , 1.692, 1.852, 1.88 , 1.776, 1.782, 1.77 ,\n",
       "       1.79 ])"
      ]
     },
     "execution_count": 99,
     "metadata": {},
     "output_type": "execute_result"
    }
   ],
   "source": [
    "키_m = 키_cm /100\n",
    "키_m"
   ]
  },
  {
   "cell_type": "code",
   "execution_count": 97,
   "id": "5f8447f4",
   "metadata": {},
   "outputs": [
    {
     "data": {
      "text/plain": [
       "array([65.6, 88. , 79.2, 69.3, 55. , 71.2, 73. , 68.9, 74. , 82. ])"
      ]
     },
     "execution_count": 97,
     "metadata": {},
     "output_type": "execute_result"
    }
   ],
   "source": [
    "몸무게 = data[1]\n",
    "몸무게"
   ]
  },
  {
   "cell_type": "code",
   "execution_count": 101,
   "id": "cadf984f",
   "metadata": {
    "scrolled": true
   },
   "outputs": [
    {
     "data": {
      "text/plain": [
       "array([21.37153104, 27.07018468, 25.86122449, 24.20652885, 16.03543423,\n",
       "       20.14486193, 23.14392095, 21.69720651, 23.62028791, 25.59220998])"
      ]
     },
     "execution_count": 101,
     "metadata": {},
     "output_type": "execute_result"
    }
   ],
   "source": [
    "몸무게 / (키_m*키_m)"
   ]
  },
  {
   "cell_type": "markdown",
   "id": "9657f0bf",
   "metadata": {},
   "source": [
    "# Boolean 인덱싱\n",
    "#True 는 출력하고 False 는 출력하지 않음\n",
    "#인덱싱을 진행할떄 개수와 동일한 수의 Boolean data필요\n",
    "#원하는 조건에 맞는 값을 출력하는 방법"
   ]
  },
  {
   "cell_type": "code",
   "execution_count": 110,
   "id": "0713c647",
   "metadata": {},
   "outputs": [
    {
     "data": {
      "text/plain": [
       "array([10, 20, 15, 30])"
      ]
     },
     "execution_count": 110,
     "metadata": {},
     "output_type": "execute_result"
    }
   ],
   "source": [
    "arr3 = np.array([10,20,15,30])\n",
    "arr3"
   ]
  },
  {
   "cell_type": "code",
   "execution_count": null,
   "id": "9c8cf0c7",
   "metadata": {},
   "outputs": [],
   "source": [
    "# 20,30 F  , 10,15 T\n"
   ]
  },
  {
   "cell_type": "code",
   "execution_count": 111,
   "id": "04d75a77",
   "metadata": {},
   "outputs": [
    {
     "data": {
      "text/plain": [
       "array([ True, False,  True, False])"
      ]
     },
     "execution_count": 111,
     "metadata": {},
     "output_type": "execute_result"
    }
   ],
   "source": [
    "bol=np.array([True, False, True, False])   #비효율적\n",
    "bol"
   ]
  },
  {
   "cell_type": "code",
   "execution_count": 112,
   "id": "f802541e",
   "metadata": {},
   "outputs": [
    {
     "data": {
      "text/plain": [
       "array([10, 15])"
      ]
     },
     "execution_count": 112,
     "metadata": {},
     "output_type": "execute_result"
    }
   ],
   "source": [
    "arr3[bol]"
   ]
  },
  {
   "cell_type": "code",
   "execution_count": 113,
   "id": "92b5bb86",
   "metadata": {},
   "outputs": [
    {
     "data": {
      "text/plain": [
       "array([ True, False,  True, False])"
      ]
     },
     "execution_count": 113,
     "metadata": {},
     "output_type": "execute_result"
    }
   ],
   "source": [
    "arr3 < 17"
   ]
  },
  {
   "cell_type": "code",
   "execution_count": 115,
   "id": "bdde637d",
   "metadata": {},
   "outputs": [
    {
     "data": {
      "text/plain": [
       "array([10, 15])"
      ]
     },
     "execution_count": 115,
     "metadata": {},
     "output_type": "execute_result"
    }
   ],
   "source": [
    "arr3[bol]"
   ]
  },
  {
   "cell_type": "code",
   "execution_count": 114,
   "id": "99b8478f",
   "metadata": {},
   "outputs": [
    {
     "data": {
      "text/plain": [
       "array([10, 15])"
      ]
     },
     "execution_count": 114,
     "metadata": {},
     "output_type": "execute_result"
    }
   ],
   "source": [
    "#17미만의 값만 출력\n",
    "arr3[arr3<17]"
   ]
  },
  {
   "cell_type": "code",
   "execution_count": 119,
   "id": "7bfbf16f",
   "metadata": {},
   "outputs": [
    {
     "name": "stdout",
     "output_type": "stream",
     "text": [
      "[False  True False False]\n"
     ]
    }
   ],
   "source": [
    "# arr3 에서 20인 값만 출력\n",
    "\n",
    "print(arr3 == 20)"
   ]
  },
  {
   "cell_type": "code",
   "execution_count": 121,
   "id": "a533ecdb",
   "metadata": {
    "scrolled": true
   },
   "outputs": [
    {
     "name": "stdout",
     "output_type": "stream",
     "text": [
      "[20]\n"
     ]
    }
   ],
   "source": [
    "print(arr3[arr3 == 20])"
   ]
  },
  {
   "cell_type": "code",
   "execution_count": 120,
   "id": "f39f51c3",
   "metadata": {},
   "outputs": [
    {
     "data": {
      "text/plain": [
       "array([20])"
      ]
     },
     "execution_count": 120,
     "metadata": {},
     "output_type": "execute_result"
    }
   ],
   "source": [
    "arr3[arr3 == 20]"
   ]
  },
  {
   "cell_type": "code",
   "execution_count": 118,
   "id": "ddcfb36d",
   "metadata": {},
   "outputs": [
    {
     "data": {
      "text/plain": [
       "array([10, 15, 30])"
      ]
     },
     "execution_count": 118,
     "metadata": {},
     "output_type": "execute_result"
    }
   ],
   "source": [
    "arr3[arr3 != 20]"
   ]
  },
  {
   "cell_type": "code",
   "execution_count": null,
   "id": "33de1752",
   "metadata": {},
   "outputs": [],
   "source": [
    "# numpy에서 사용하는 연산 함수"
   ]
  },
  {
   "cell_type": "code",
   "execution_count": null,
   "id": "0d7ca009",
   "metadata": {},
   "outputs": [],
   "source": [
    "#1~9 까지의 랜덤한 수가 담긴 (2,5) 크기의 배열 생성"
   ]
  },
  {
   "cell_type": "code",
   "execution_count": 123,
   "id": "eb710709",
   "metadata": {},
   "outputs": [
    {
     "data": {
      "text/plain": [
       "array([[7, 5, 9, 4, 1],\n",
       "       [8, 7, 2, 4, 4]])"
      ]
     },
     "execution_count": 123,
     "metadata": {},
     "output_type": "execute_result"
    }
   ],
   "source": [
    "arr = np.random.randint(1,10,size=(2,5))\n",
    "arr"
   ]
  },
  {
   "cell_type": "code",
   "execution_count": 126,
   "id": "64e74eae",
   "metadata": {},
   "outputs": [
    {
     "data": {
      "text/plain": [
       "51"
      ]
     },
     "execution_count": 126,
     "metadata": {},
     "output_type": "execute_result"
    }
   ],
   "source": [
    "#배열 안에 있는 값 더하기\n",
    "#np.sum(배열값)\n",
    "np.sum(arr)"
   ]
  },
  {
   "cell_type": "code",
   "execution_count": 127,
   "id": "e7a27037",
   "metadata": {},
   "outputs": [
    {
     "data": {
      "text/plain": [
       "array([15, 12, 11,  8,  5])"
      ]
     },
     "execution_count": 127,
     "metadata": {},
     "output_type": "execute_result"
    }
   ],
   "source": [
    "np.sum(arr, axis = 0)\n",
    "#axis 각 요소 끼리 1차원 0, "
   ]
  },
  {
   "cell_type": "code",
   "execution_count": 128,
   "id": "f35a92fd",
   "metadata": {},
   "outputs": [
    {
     "data": {
      "text/plain": [
       "array([26, 25])"
      ]
     },
     "execution_count": 128,
     "metadata": {},
     "output_type": "execute_result"
    }
   ],
   "source": [
    "np.sum(arr, axis = 1)\n",
    "# 2차원일경우 1 "
   ]
  },
  {
   "cell_type": "code",
   "execution_count": 129,
   "id": "01fe0e7f",
   "metadata": {},
   "outputs": [
    {
     "data": {
      "text/plain": [
       "5.1"
      ]
     },
     "execution_count": 129,
     "metadata": {},
     "output_type": "execute_result"
    }
   ],
   "source": [
    "#배열 안에 있는 값의 평균\n",
    "#np.mean(배열값)\n",
    "\n",
    "np.mean(arr)"
   ]
  },
  {
   "cell_type": "code",
   "execution_count": 130,
   "id": "c4f75eb5",
   "metadata": {},
   "outputs": [
    {
     "data": {
      "text/plain": [
       "array([5.2, 5. ])"
      ]
     },
     "execution_count": 130,
     "metadata": {},
     "output_type": "execute_result"
    }
   ],
   "source": [
    "np.mean(arr,axis = 1)"
   ]
  }
 ],
 "metadata": {
  "kernelspec": {
   "display_name": "Python 3 (ipykernel)",
   "language": "python",
   "name": "python3"
  },
  "language_info": {
   "codemirror_mode": {
    "name": "ipython",
    "version": 3
   },
   "file_extension": ".py",
   "mimetype": "text/x-python",
   "name": "python",
   "nbconvert_exporter": "python",
   "pygments_lexer": "ipython3",
   "version": "3.9.7"
  }
 },
 "nbformat": 4,
 "nbformat_minor": 5
}
