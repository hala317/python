{
  "nbformat": 4,
  "nbformat_minor": 0,
  "metadata": {
    "colab": {
      "name": "studyPY_5day.ipynb",
      "provenance": [],
      "collapsed_sections": [],
      "authorship_tag": "ABX9TyPGh89ZF0wqBiaKsaITMfyk",
      "include_colab_link": true
    },
    "kernelspec": {
      "name": "python3",
      "display_name": "Python 3"
    },
    "language_info": {
      "name": "python"
    }
  },
  "cells": [
    {
      "cell_type": "markdown",
      "metadata": {
        "id": "view-in-github",
        "colab_type": "text"
      },
      "source": [
        "<a href=\"https://colab.research.google.com/github/hala317/python/blob/main/studyPY_5day.ipynb\" target=\"_parent\"><img src=\"https://colab.research.google.com/assets/colab-badge.svg\" alt=\"Open In Colab\"/></a>"
      ]
    },
    {
      "cell_type": "code",
      "execution_count": null,
      "metadata": {
        "id": "hYuVN2Rm8hWn",
        "colab": {
          "base_uri": "https://localhost:8080/"
        },
        "outputId": "ae3c95d1-7fd3-4c2b-ed16-efded553912c"
      },
      "outputs": [
        {
          "output_type": "stream",
          "name": "stdout",
          "text": [
            "몇단? : 2\n",
            "2 x 1 = 2\n",
            "2 x 2 = 4\n",
            "2 x 3 = 6\n",
            "2 x 4 = 8\n",
            "2 x 5 = 10\n",
            "2 x 6 = 12\n",
            "2 x 7 = 14\n",
            "2 x 8 = 16\n",
            "2 x 9 = 18\n"
          ]
        }
      ],
      "source": [
        "#구구단 \n",
        "n=int(input('몇단? : '))\n",
        "for i in range(1,10):\n",
        "  print(n, \"x\", i, \"=\", n*i)"
      ]
    },
    {
      "cell_type": "code",
      "source": [
        "n=int(input('몇단? : '))\n",
        "i=1\n",
        "while i< 10:\n",
        "   print(n, \"x\", i, \"=\", n*i)\n",
        "   i=i+1"
      ],
      "metadata": {
        "colab": {
          "base_uri": "https://localhost:8080/"
        },
        "id": "K_0jeBpjL4eT",
        "outputId": "2aeb4460-9422-45aa-b3d2-c29ce333f8de"
      },
      "execution_count": null,
      "outputs": [
        {
          "output_type": "stream",
          "name": "stdout",
          "text": [
            "몇단? : 3\n",
            "3 x 1 = 3\n",
            "3 x 2 = 6\n",
            "3 x 3 = 9\n",
            "3 x 4 = 12\n",
            "3 x 5 = 15\n",
            "3 x 6 = 18\n",
            "3 x 7 = 21\n",
            "3 x 8 = 24\n",
            "3 x 9 = 27\n"
          ]
        }
      ]
    },
    {
      "cell_type": "code",
      "source": [
        "#숫자 하나를 입력 받아 0까지 카운트 다운 수행하는 프로그램 \n",
        "n=int(input('몇부터? : '))\n",
        "numbers=[]\n",
        "\n",
        "for i in range(1,n+1):\n",
        "  x=input('숫자'+str(i)+': ')\n",
        "  numbers = numbers+[x]\n",
        "for i in range(n-1, -1, -1):\n",
        "    print(numbers[i])"
      ],
      "metadata": {
        "colab": {
          "base_uri": "https://localhost:8080/"
        },
        "id": "99CB8kvnMehv",
        "outputId": "2a4a4cda-c70e-46ca-e8e6-8875eb90ad16"
      },
      "execution_count": null,
      "outputs": [
        {
          "output_type": "stream",
          "name": "stdout",
          "text": [
            "몇부터? : 3\n",
            "숫자1: 19\n",
            "숫자2: 18\n",
            "숫자3: 23\n",
            "23\n",
            "18\n",
            "19\n"
          ]
        }
      ]
    },
    {
      "cell_type": "code",
      "source": [
        "from typing import AsyncGenerator\n",
        "student = int(input('몇 명? : '))\n",
        "\n",
        "age = 0\n",
        "\n",
        "for i in range(1, student+1):\n",
        "  x=int(input('학생'+str(i)+': '))\n",
        "  age = age+x\n",
        " \n",
        "print('평균: ', age / student)"
      ],
      "metadata": {
        "colab": {
          "base_uri": "https://localhost:8080/"
        },
        "id": "YZohpraFRSia",
        "outputId": "d06c6dca-5d93-414d-929c-ed287bed6013"
      },
      "execution_count": null,
      "outputs": [
        {
          "output_type": "stream",
          "name": "stdout",
          "text": [
            "몇 명? : 3\n",
            "학생1: 18\n",
            "학생2: 19\n",
            "학생3: 23\n",
            "평균:  20.0\n"
          ]
        }
      ]
    },
    {
      "cell_type": "code",
      "source": [
        "age_sum = 0\n",
        "for i in range(1, n+1):\n",
        "    age = int(input(\"학생 \"+str(i)+\": \"))\n",
        "    age_sum = age_sum+age\n",
        "print(\"평균: \", age_sum/n)"
      ],
      "metadata": {
        "id": "hWxeRPi2UjLt"
      },
      "execution_count": null,
      "outputs": []
    },
    {
      "cell_type": "code",
      "source": [
        "n=int(input('몇부터? : '))\n",
        "numbers=[]\n",
        "for i in range(n, 0, -1):\n",
        "    numbers = numbers+[i]\n",
        "    print(i)"
      ],
      "metadata": {
        "colab": {
          "base_uri": "https://localhost:8080/"
        },
        "id": "LHLp8aGMM9MP",
        "outputId": "d9319b71-c198-47ad-d26f-99fd30654896"
      },
      "execution_count": null,
      "outputs": [
        {
          "output_type": "stream",
          "name": "stdout",
          "text": [
            "몇부터? : 3\n",
            "3\n",
            "2\n",
            "1\n"
          ]
        }
      ]
    }
  ]
}