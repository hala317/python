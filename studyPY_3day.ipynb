{
  "nbformat": 4,
  "nbformat_minor": 0,
  "metadata": {
    "colab": {
      "name": "studyPY_3day.ipynb",
      "provenance": [],
      "authorship_tag": "ABX9TyM14LriZ1Zy1hpAdUDXB6Mx",
      "include_colab_link": true
    },
    "kernelspec": {
      "name": "python3",
      "display_name": "Python 3"
    },
    "language_info": {
      "name": "python"
    }
  },
  "cells": [
    {
      "cell_type": "markdown",
      "metadata": {
        "id": "view-in-github",
        "colab_type": "text"
      },
      "source": [
        "<a href=\"https://colab.research.google.com/github/hala317/python/blob/main/studyPY_3day.ipynb\" target=\"_parent\"><img src=\"https://colab.research.google.com/assets/colab-badge.svg\" alt=\"Open In Colab\"/></a>"
      ]
    },
    {
      "cell_type": "code",
      "execution_count": 1,
      "metadata": {
        "colab": {
          "base_uri": "https://localhost:8080/"
        },
        "id": "ypYs4fABke6U",
        "outputId": "ac4cab32-f4ed-47af-8cf4-ed9e88edf436"
      },
      "outputs": [
        {
          "output_type": "stream",
          "name": "stdout",
          "text": [
            "라얄 리라얄 셩라얄리얄리얄\n"
          ]
        }
      ],
      "source": [
        "text='얄리얄리얄라셩 얄라리 얄라'\n",
        "result= text[::-1]\n",
        "print(result)"
      ]
    },
    {
      "cell_type": "code",
      "source": [
        "shark=\"아기 상어 뚜루룻뚜루 귀여운 뚜루룻뚜룻\"\n",
        "result= shark.count(\"상어\")\n",
        "print(result)"
      ],
      "metadata": {
        "colab": {
          "base_uri": "https://localhost:8080/"
        },
        "id": "3skHGMkvmNCL",
        "outputId": "a601cfd7-7275-4ce3-8c02-778faff6a9c1"
      },
      "execution_count": 3,
      "outputs": [
        {
          "output_type": "stream",
          "name": "stdout",
          "text": [
            "1\n"
          ]
        }
      ]
    },
    {
      "cell_type": "code",
      "source": [
        "array=[1, 2, 3, 4, 5]\n",
        "\n",
        "array[4]=7\n",
        "array[1] = ['a', 'b', 'c']\n",
        "array[3:5] = ['d', 'e', 'f', 'g']\n",
        "array[0:1]='h','i','j'\n",
        "print(array)"
      ],
      "metadata": {
        "colab": {
          "base_uri": "https://localhost:8080/"
        },
        "id": "diVjpEEVmxax",
        "outputId": "ae3bec2d-5a3e-4c57-e729-2dab3234a67b"
      },
      "execution_count": 4,
      "outputs": [
        {
          "output_type": "stream",
          "name": "stdout",
          "text": [
            "['h', 'i', 'j', ['a', 'b', 'c'], 3, 'd', 'e', 'f', 'g']\n"
          ]
        }
      ]
    },
    {
      "cell_type": "code",
      "source": [
        "array=[1, 2, 3, 4, 5]\n",
        "\n",
        "array[4]=7\n",
        "array[1] = ['a', 'b', 'c']\n",
        "array[3:5] = ['d', 'e', 'f', 'g']\n",
        "array[:1]=['h','i','j']\n",
        "print(array)"
      ],
      "metadata": {
        "colab": {
          "base_uri": "https://localhost:8080/"
        },
        "id": "ExISN1sV4S5e",
        "outputId": "8a40b7da-0fcd-44c0-e28a-ffd391b2903b"
      },
      "execution_count": 5,
      "outputs": [
        {
          "output_type": "stream",
          "name": "stdout",
          "text": [
            "['h', 'i', 'j', ['a', 'b', 'c'], 3, 'd', 'e', 'f', 'g']\n"
          ]
        }
      ]
    },
    {
      "cell_type": "code",
      "source": [
        "list_fruit = ['딸기', '바나나', '수박', '체리','포도']\n",
        "\n",
        "letter = str(input('검색할 문자를 입력하세요>> '))\n",
        "\n",
        "if letter in list_fruit:\n",
        "    print(f'{letter} 는 리스트에 {list_fruit.index(letter)}번째 인덱스에 들어있습니다.')\n",
        "else:\n",
        "     print(f' {letter}는 리스트에 들어있지 않습니다.')\n",
        "        \n",
        "print('*'*45)\n",
        "#list_fruit.index(letter)\n",
        "\n",
        "#if list_fruit.index(letter):\n",
        "#    print(f' {letter} 는 리스트에 {list_fruit.index}번째 인덱스에 들어있습니다.')\n",
        "#else:\n",
        "#    print(f' {letter}는 리스트에 들어있지 않습니다.')"
      ],
      "metadata": {
        "colab": {
          "base_uri": "https://localhost:8080/"
        },
        "id": "FRjg3727HOLh",
        "outputId": "487514c1-c7e6-47b0-f33f-bac053ec8097"
      },
      "execution_count": 6,
      "outputs": [
        {
          "output_type": "stream",
          "name": "stdout",
          "text": [
            "검색할 문자를 입력하세요>> 체리\n",
            "체리 는 리스트에 3번째 인덱스에 들어있습니다.\n",
            "*********************************************\n"
          ]
        }
      ]
    },
    {
      "cell_type": "code",
      "source": [
        "s = 'Hi, My name is Mihee'\n",
        "\n",
        "c = str(input('검색 할 문자를 입력하세요>> '))\n",
        "\n",
        "if c in s:\n",
        "    print(f' {c}는 문자열에 {s.count(c)}번 들어 있습니다.')\n",
        "else:\n",
        "    print(f' {c}는 문자열에 들어 있지 않습니다.')\n",
        "          \n",
        "print('*'*45) "
      ],
      "metadata": {
        "colab": {
          "base_uri": "https://localhost:8080/"
        },
        "id": "EjpKI7-eIgUY",
        "outputId": "e1ba4411-72f8-4278-eefc-6c10ca4e21da"
      },
      "execution_count": 7,
      "outputs": [
        {
          "output_type": "stream",
          "name": "stdout",
          "text": [
            "검색 할 문자를 입력하세요>> e\n",
            " e는 문자열에 3번 들어 있습니다.\n",
            "*********************************************\n"
          ]
        }
      ]
    },
    {
      "cell_type": "code",
      "source": [
        "a=0\n",
        "for i in s :\n",
        "    a=a+1\n",
        "    if i == \"M\":\n",
        "        print(a ,'번째 있습니다.')"
      ],
      "metadata": {
        "colab": {
          "base_uri": "https://localhost:8080/"
        },
        "id": "pHRbI1sCM8mo",
        "outputId": "429239b5-1355-4acd-b768-959fe4065ea5"
      },
      "execution_count": 8,
      "outputs": [
        {
          "output_type": "stream",
          "name": "stdout",
          "text": [
            "5 번째 있습니다.\n",
            "16 번째 있습니다.\n"
          ]
        }
      ]
    },
    {
      "cell_type": "code",
      "source": [
        "# 전재책에 한 줄에 열글자씩 끊어서 출력해주는 코드 (공백 포함) \n",
        "\n",
        "sonagi = '글쎄 말이지. 이번 앤 꽤 여러 날 앓는 걸 약도 변변히 못써 봤다더군. 지금 같아서 윤초시네도 대가 끊긴 셈이지. ...... 그런데 참, 이번 계집앤 어린 것이 여간 잔망스럽지가 않아. 글쎄, 죽기 전에 이런 말을 했다지 않아? 자기가 죽거든 자기 입던 옷을 꼭 그대로 입려서 묻어 달라고...'\n",
        "\n",
        "for i in range(0, len(sonagi), 10):\n",
        "  print(sonagi[i : i+10])\n"
      ],
      "metadata": {
        "colab": {
          "base_uri": "https://localhost:8080/"
        },
        "id": "8QpDzVOFNBaP",
        "outputId": "f6122db4-5378-45ef-fbcd-8ec155fb95d9"
      },
      "execution_count": 9,
      "outputs": [
        {
          "output_type": "stream",
          "name": "stdout",
          "text": [
            "글쎄 말이지. 이번\n",
            " 앤 꽤 여러 날 \n",
            "앓는 걸 약도 변변\n",
            "히 못써 봤다더군.\n",
            " 지금 같아서 윤초\n",
            "시네도 대가 끊긴 \n",
            "셈이지. .....\n",
            ". 그런데 참, 이\n",
            "번 계집앤 어린 것\n",
            "이 여간 잔망스럽지\n",
            "가 않아. 글쎄, \n",
            "죽기 전에 이런 말\n",
            "을 했다지 않아? \n",
            "자기가 죽거든 자기\n",
            " 입던 옷을 꼭 그\n",
            "대로 입려서 묻어 \n",
            "달라고...\n"
          ]
        }
      ]
    },
    {
      "cell_type": "code",
      "source": [
        "#1부터 10가지의 수를 출력, 어떤 숫자를 입력하면 1부터 그 숫자까지 출력하는 코드, 20~부터 30까지의 수중 홀수만 출력, 10~40까지의 수중 3의 배수만 출력"
      ],
      "metadata": {
        "id": "eDkgbgDHObxg"
      },
      "execution_count": null,
      "outputs": []
    },
    {
      "cell_type": "code",
      "source": [
        "import time\n",
        "while True:\n",
        "  print('무한반복 입니다. 멈추려면 ctrl + c 를 눌러주세요~')\n",
        "  time.sleep(3)\n",
        "  "
      ],
      "metadata": {
        "id": "pjrcxCkJSz3X"
      },
      "execution_count": null,
      "outputs": []
    },
    {
      "cell_type": "code",
      "source": [
        ""
      ],
      "metadata": {
        "id": "XxQOk3zrk7lW"
      },
      "execution_count": null,
      "outputs": []
    },
    {
      "cell_type": "code",
      "source": [
        "for a in range (1, 6, 1):\n",
        "  print('소엔 친구 %d 안녕!' %a)\n",
        "print(\"모두 반가원~~\")"
      ],
      "metadata": {
        "colab": {
          "base_uri": "https://localhost:8080/"
        },
        "id": "7V9B05LTTMup",
        "outputId": "34386d30-f2d7-4dde-d8cb-2abb8df5672b"
      },
      "execution_count": 11,
      "outputs": [
        {
          "output_type": "stream",
          "name": "stdout",
          "text": [
            "소엔 친구 1 안녕!\n",
            "소엔 친구 2 안녕!\n",
            "소엔 친구 3 안녕!\n",
            "소엔 친구 4 안녕!\n",
            "소엔 친구 5 안녕!\n",
            "모두 반가원~~\n"
          ]
        }
      ]
    }
  ]
}