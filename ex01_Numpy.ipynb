{
 "cells": [
  {
   "cell_type": "code",
   "execution_count": 1,
   "id": "469f22ec",
   "metadata": {},
   "outputs": [],
   "source": [
    "# numpy 라이브러리 import하기\n",
    "# dkvdmfh np라는 이름으로 부르기\n",
    "import numpy as np"
   ]
  },
  {
   "cell_type": "code",
   "execution_count": 6,
   "id": "29c719a2",
   "metadata": {},
   "outputs": [
    {
     "data": {
      "text/plain": [
       "[1, 2, 3, 4, 5]"
      ]
     },
     "execution_count": 6,
     "metadata": {},
     "output_type": "execute_result"
    }
   ],
   "source": [
    "list1=[1,2, 3, 4, 5]\n",
    "list1"
   ]
  },
  {
   "cell_type": "code",
   "execution_count": 7,
   "id": "da039bdb",
   "metadata": {},
   "outputs": [
    {
     "data": {
      "text/plain": [
       "array([1, 2, 3, 4, 5])"
      ]
     },
     "execution_count": 7,
     "metadata": {},
     "output_type": "execute_result"
    }
   ],
   "source": [
    "#array생성하기\n",
    "arr=np.array(list1)\n",
    "arr"
   ]
  },
  {
   "cell_type": "code",
   "execution_count": 9,
   "id": "64c86462",
   "metadata": {},
   "outputs": [
    {
     "data": {
      "text/plain": [
       "array([1, 2, 3, 4, 5])"
      ]
     },
     "execution_count": 9,
     "metadata": {},
     "output_type": "execute_result"
    }
   ],
   "source": [
    "arr1 = np.array([1,2,3,4,5])\n",
    "arr1"
   ]
  },
  {
   "cell_type": "code",
   "execution_count": null,
   "id": "d6eab6c3",
   "metadata": {},
   "outputs": [],
   "source": [
    "#리스트\n",
    "#[1,2,3] , [4,5,6] 각 요성의 값을 더한다."
   ]
  },
  {
   "cell_type": "code",
   "execution_count": 15,
   "id": "0ae53b28",
   "metadata": {},
   "outputs": [],
   "source": [
    "list1 = [1,2,3]\n",
    "list2 = [4,5,6]\n"
   ]
  },
  {
   "cell_type": "code",
   "execution_count": 17,
   "id": "38ed4ae4",
   "metadata": {},
   "outputs": [],
   "source": [
    "arr3 = np.array(list1)\n",
    "arr4 = np.array(list2)"
   ]
  },
  {
   "cell_type": "code",
   "execution_count": 18,
   "id": "d6d4150a",
   "metadata": {},
   "outputs": [
    {
     "data": {
      "text/plain": [
       "array([5, 7, 9])"
      ]
     },
     "execution_count": 18,
     "metadata": {},
     "output_type": "execute_result"
    }
   ],
   "source": [
    "arr5 = arr3 + arr4\n",
    "arr5"
   ]
  },
  {
   "cell_type": "code",
   "execution_count": null,
   "id": "a7b69f6f",
   "metadata": {},
   "outputs": [],
   "source": [
    "#list3=[]\n",
    "#for i in range(3):\n",
    "#    list3.append(list1[i]+list2[i])\n",
    "#list3"
   ]
  },
  {
   "cell_type": "code",
   "execution_count": null,
   "id": "fcc56e3a",
   "metadata": {},
   "outputs": [],
   "source": []
  },
  {
   "cell_type": "code",
   "execution_count": 27,
   "id": "62e34a78",
   "metadata": {},
   "outputs": [
    {
     "data": {
      "text/plain": [
       "array([[1, 2, 3],\n",
       "       [4, 5, 6]])"
      ]
     },
     "execution_count": 27,
     "metadata": {},
     "output_type": "execute_result"
    }
   ],
   "source": [
    "#2차원 array 생성하기\n",
    "arr6 = np.array( [ [ 1,2,3 ],[ 4,5,6 ] ] )\n",
    "arr6"
   ]
  },
  {
   "cell_type": "code",
   "execution_count": 23,
   "id": "32c681a5",
   "metadata": {},
   "outputs": [
    {
     "data": {
      "text/plain": [
       "(2, 3)"
      ]
     },
     "execution_count": 23,
     "metadata": {},
     "output_type": "execute_result"
    }
   ],
   "source": [
    "#array 의 크기 확인하기\n",
    "#shape\n",
    "arr6.shape"
   ]
  },
  {
   "cell_type": "code",
   "execution_count": 28,
   "id": "b917e471",
   "metadata": {},
   "outputs": [
    {
     "data": {
      "text/plain": [
       "6"
      ]
     },
     "execution_count": 28,
     "metadata": {},
     "output_type": "execute_result"
    }
   ],
   "source": [
    "#array전체 요소 개수 확인하기\n",
    "#size \n",
    "arr6.size"
   ]
  },
  {
   "cell_type": "code",
   "execution_count": 30,
   "id": "8ec0cc64",
   "metadata": {},
   "outputs": [
    {
     "data": {
      "text/plain": [
       "dtype('int32')"
      ]
     },
     "execution_count": 30,
     "metadata": {},
     "output_type": "execute_result"
    }
   ],
   "source": [
    "#array 타입 확인하기\n",
    "#dtype\n",
    "arr6.dtype"
   ]
  },
  {
   "cell_type": "code",
   "execution_count": 32,
   "id": "4ea35ff2",
   "metadata": {},
   "outputs": [
    {
     "data": {
      "text/plain": [
       "2"
      ]
     },
     "execution_count": 32,
     "metadata": {},
     "output_type": "execute_result"
    }
   ],
   "source": [
    "#array 차원 확인하기\n",
    "#ndim\n",
    "arr6.ndim"
   ]
  },
  {
   "cell_type": "code",
   "execution_count": 33,
   "id": "16171996",
   "metadata": {},
   "outputs": [
    {
     "data": {
      "text/plain": [
       "array([[[1, 2],\n",
       "        [3, 4]],\n",
       "\n",
       "       [[5, 6],\n",
       "        [7, 8]]])"
      ]
     },
     "execution_count": 33,
     "metadata": {},
     "output_type": "execute_result"
    }
   ],
   "source": [
    "#3차원의 array 만들고 배열의 크기, 차원 , 전체 요소 개수 확인\n",
    "arr7 = np.array(   [   [   [1,2],[3,4]   ],[   [5,6],[7,8]   ]   ]   )\n",
    "arr7"
   ]
  },
  {
   "cell_type": "code",
   "execution_count": 41,
   "id": "72fbb039",
   "metadata": {},
   "outputs": [
    {
     "name": "stdout",
     "output_type": "stream",
     "text": [
      "배열의 크기 (2, 2, 2)\n"
     ]
    }
   ],
   "source": [
    "print('배열의 크기', arr7.shape)"
   ]
  },
  {
   "cell_type": "code",
   "execution_count": 42,
   "id": "d567eb55",
   "metadata": {},
   "outputs": [
    {
     "name": "stdout",
     "output_type": "stream",
     "text": [
      "배열의 요소개수 8\n"
     ]
    }
   ],
   "source": [
    "print('배열의 요소개수' , arr7.size)"
   ]
  },
  {
   "cell_type": "code",
   "execution_count": 43,
   "id": "c2649826",
   "metadata": {},
   "outputs": [
    {
     "name": "stdout",
     "output_type": "stream",
     "text": [
      "배열의 차원 3\n"
     ]
    }
   ],
   "source": [
    "print('배열의 차원', arr7.ndim)"
   ]
  },
  {
   "cell_type": "code",
   "execution_count": 44,
   "id": "c818b6f5",
   "metadata": {},
   "outputs": [
    {
     "name": "stdout",
     "output_type": "stream",
     "text": [
      "배열의 타입 int32\n"
     ]
    }
   ],
   "source": [
    "print('배열의 타입', arr7.dtype)"
   ]
  },
  {
   "cell_type": "code",
   "execution_count": 47,
   "id": "5bfe2911",
   "metadata": {},
   "outputs": [
    {
     "name": "stdout",
     "output_type": "stream",
     "text": [
      "배열의 크기:(2, 2, 2)\n",
      "배열의 차원:3\n",
      "배열의 개수: 8\n"
     ]
    }
   ],
   "source": [
    "print('배열의 크기:{}'.format(arr7.shape))\n",
    "print(f'배열의 차원:{arr7.ndim}')\n",
    "print('배열의 개수:', arr7.size)"
   ]
  },
  {
   "cell_type": "code",
   "execution_count": 48,
   "id": "6d8220e5",
   "metadata": {},
   "outputs": [
    {
     "data": {
      "text/plain": [
       "array([[0., 0., 0., 0.],\n",
       "       [0., 0., 0., 0.],\n",
       "       [0., 0., 0., 0.]])"
      ]
     },
     "execution_count": 48,
     "metadata": {},
     "output_type": "execute_result"
    }
   ],
   "source": [
    "#배열 생성하기\n",
    "\n",
    "# 0의 박으로 배열 생성하기\n",
    "# zeros(배열의 크기)\n",
    "np.zeros((3,4))"
   ]
  },
  {
   "cell_type": "code",
   "execution_count": 51,
   "id": "a651fe5b",
   "metadata": {},
   "outputs": [
    {
     "data": {
      "text/plain": [
       "array([[1., 1., 1., 1.],\n",
       "       [1., 1., 1., 1.],\n",
       "       [1., 1., 1., 1.]])"
      ]
     },
     "execution_count": 51,
     "metadata": {},
     "output_type": "execute_result"
    }
   ],
   "source": [
    "# 1 값으로 생성하기\n",
    "#ones()\n",
    "np.ones((3,4))"
   ]
  },
  {
   "cell_type": "code",
   "execution_count": 52,
   "id": "1c1efb5b",
   "metadata": {},
   "outputs": [
    {
     "data": {
      "text/plain": [
       "array([[5, 5, 5, 5],\n",
       "       [5, 5, 5, 5],\n",
       "       [5, 5, 5, 5]])"
      ]
     },
     "execution_count": 52,
     "metadata": {},
     "output_type": "execute_result"
    }
   ],
   "source": [
    "#지정해서 생성하기\n",
    "#full(배열의 크기, 채워넣을 값)\n",
    "np.full((3,4),5)\n",
    "       # 3개의 배열 4개의 값이 들어갈수 있게 , 5 라는 값으로 넣어서 만들어라~~~  \n"
   ]
  },
  {
   "cell_type": "code",
   "execution_count": 56,
   "id": "a834904d",
   "metadata": {},
   "outputs": [
    {
     "data": {
      "text/plain": [
       "array([ 1, 11, 21, 31, 41])"
      ]
     },
     "execution_count": 56,
     "metadata": {},
     "output_type": "execute_result"
    }
   ],
   "source": [
    "#연속되는 숫자로 배열 생성하기\n",
    "#arange( 시작하는 수, 끝나는 수 +1, 간격이 되는 수)\n",
    "#시작되는 수 기본 값 : 0\n",
    "#간격이 되는 수 기본값 :1\n",
    "np.arange(1, 50+1, 10)"
   ]
  },
  {
   "cell_type": "code",
   "execution_count": 57,
   "id": "65e061d4",
   "metadata": {},
   "outputs": [
    {
     "data": {
      "text/plain": [
       "array([ 1, 11, 21, 31, 41])"
      ]
     },
     "execution_count": 57,
     "metadata": {},
     "output_type": "execute_result"
    }
   ],
   "source": [
    "np.arange(1, 50, 10)"
   ]
  },
  {
   "cell_type": "code",
   "execution_count": 58,
   "id": "ba9e4b9f",
   "metadata": {},
   "outputs": [
    {
     "data": {
      "text/plain": [
       "array([ 1, 11, 21, 31, 41])"
      ]
     },
     "execution_count": 58,
     "metadata": {},
     "output_type": "execute_result"
    }
   ],
   "source": [
    "np.arange(1,42,10)"
   ]
  }
 ],
 "metadata": {
  "kernelspec": {
   "display_name": "Python 3 (ipykernel)",
   "language": "python",
   "name": "python3"
  },
  "language_info": {
   "codemirror_mode": {
    "name": "ipython",
    "version": 3
   },
   "file_extension": ".py",
   "mimetype": "text/x-python",
   "name": "python",
   "nbconvert_exporter": "python",
   "pygments_lexer": "ipython3",
   "version": "3.9.7"
  }
 },
 "nbformat": 4,
 "nbformat_minor": 5
}
