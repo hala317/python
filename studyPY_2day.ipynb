{
  "nbformat": 4,
  "nbformat_minor": 0,
  "metadata": {
    "colab": {
      "name": "studyPY_2day.ipynb",
      "provenance": [],
      "authorship_tag": "ABX9TyPdsHAGFn3GYSxXOq5F60b9",
      "include_colab_link": true
    },
    "kernelspec": {
      "name": "python3",
      "display_name": "Python 3"
    },
    "language_info": {
      "name": "python"
    }
  },
  "cells": [
    {
      "cell_type": "markdown",
      "metadata": {
        "id": "view-in-github",
        "colab_type": "text"
      },
      "source": [
        "<a href=\"https://colab.research.google.com/github/hala317/python/blob/main/studyPY_2day.ipynb\" target=\"_parent\"><img src=\"https://colab.research.google.com/assets/colab-badge.svg\" alt=\"Open In Colab\"/></a>"
      ]
    },
    {
      "cell_type": "code",
      "execution_count": null,
      "metadata": {
        "colab": {
          "base_uri": "https://localhost:8080/"
        },
        "id": "ezq3BUPrgSQx",
        "outputId": "406e6a0d-81fe-4818-c2a3-cba5a12c072c"
      },
      "outputs": [
        {
          "output_type": "stream",
          "name": "stdout",
          "text": [
            "정수입력>> 3\n",
            "3 는 홀수 입니다.\n"
          ]
        }
      ],
      "source": [
        "num3 =int(input('정수입력>> '))\n",
        "\n",
        "result = '짝수' if num3 %2==0 else '홀수'\n",
        "print(f'{num3} 는 {result} 입니다.')\n",
        "\n",
        "\n",
        "# if num3 % 2 == 0:\n",
        "#    print ( '짝수 입니다.') \n",
        "    \n",
        "#   else: \n",
        "#       print('홀수입니다')\n",
        "    \n",
        "# print(f' a%2==0 : 는 짝수입이다.') if a%2 else print(f' a%2 != 0 : 는 홀수입니다.'')"
      ]
    },
    {
      "cell_type": "code",
      "source": [
        "a=int(input('정수입력>> '))\n",
        "b=int(input('정수입력>> '))\n",
        "c=(a-b)*-1      #############\n",
        "print( '두 수의 차: ', c )\n",
        "\n",
        "print('두 수의 차 : ',b-a) if a<b else print('두 수의 차 : ',a-b)\n",
        "\n",
        "####   print(f' b-a : {b-a}) if a< b else print(f' a-b : {a-b}')\n"
      ],
      "metadata": {
        "colab": {
          "base_uri": "https://localhost:8080/"
        },
        "id": "Jkmd3pxcs6VQ",
        "outputId": "7ae7c4f8-f1ed-43e9-b9f2-3d80fe6971c8"
      },
      "execution_count": null,
      "outputs": [
        {
          "output_type": "stream",
          "name": "stdout",
          "text": [
            "정수입력>> 3\n",
            "정수입력>> 10\n",
            "두 수의 차:  7\n",
            "두 수의 차 :  7\n"
          ]
        }
      ]
    },
    {
      "cell_type": "code",
      "source": [
        "#조건문\n",
        "#-if, elif, else\n",
        "\n",
        "\n",
        "\n",
        "if False:    #true false 앞 대문자로 작성\n",
        "    print('실행문장실행')\n",
        "    \n",
        "print('if 문 밖에 있는 문장 실행')\n",
        "\n",
        "\n"
      ],
      "metadata": {
        "colab": {
          "base_uri": "https://localhost:8080/"
        },
        "id": "DFMn6s-rtCAw",
        "outputId": "50017f50-d927-49ad-ea9a-e479c8c4e772"
      },
      "execution_count": null,
      "outputs": [
        {
          "output_type": "stream",
          "name": "stdout",
          "text": [
            "if 문 밖에 있는 문장 실행\n"
          ]
        }
      ]
    },
    {
      "cell_type": "code",
      "source": [
        "num = int(input('정수 입력 >> '))\n",
        "\n",
        "if num%3==0 or num%5==0:\n",
        "    print('3과 5의 배수입니다.')\n",
        "else :\n",
        "    print('3과 5의 배수가 아닙니다.')\n"
      ],
      "metadata": {
        "colab": {
          "base_uri": "https://localhost:8080/"
        },
        "id": "nejPlsOIvZV6",
        "outputId": "32bd3c15-c582-4c17-b23c-95b907cebaae"
      },
      "execution_count": null,
      "outputs": [
        {
          "output_type": "stream",
          "name": "stdout",
          "text": [
            "정수 입력 >> 3\n",
            "3과 5의 배수입니다.\n"
          ]
        }
      ]
    },
    {
      "cell_type": "code",
      "source": [
        "num1 = int(input('첫번째 정수 입력>> '))\n",
        "num2 = int(input('주번째 정수 입력>> '))\n",
        "\n",
        "if num1 > num2 :\n",
        "    print('첫번째 정수가 더 큽니다.')\n",
        "elif num1 < num2:\n",
        "    print('두번째 정수가 더 큽니다.')\n",
        "elif num1 == num2:\n",
        "    print('두 수가 똑같습니다.')"
      ],
      "metadata": {
        "colab": {
          "base_uri": "https://localhost:8080/"
        },
        "id": "AXQVEHjUzQRj",
        "outputId": "bf9deee9-511e-4952-91ed-245c2bb5b284"
      },
      "execution_count": null,
      "outputs": [
        {
          "output_type": "stream",
          "name": "stdout",
          "text": [
            "첫번째 정수 입력>> 3\n",
            "주번째 정수 입력>> 5\n",
            "두번째 정수가 더 큽니다.\n"
          ]
        }
      ]
    },
    {
      "cell_type": "code",
      "source": [
        "b= [1, 2, 3, 10, 11, 12]\n",
        "\n",
        "#d에 있는 숫자가 중 10 미만은 그대로 출력하고 10이상은  1의 자리만 추력하고 싶습니다. \n",
        "\n",
        "for i in b:\n",
        "  if i <10:\n",
        "    print(i)\n",
        "  else:\n",
        "    print(i -10)\n"
      ],
      "metadata": {
        "colab": {
          "base_uri": "https://localhost:8080/"
        },
        "id": "ZqcelvQhx30T",
        "outputId": "0511b77a-a23b-4dd5-e815-25c88998984e"
      },
      "execution_count": null,
      "outputs": [
        {
          "output_type": "stream",
          "name": "stdout",
          "text": [
            "1\n",
            "2\n",
            "3\n",
            "0\n",
            "1\n",
            "2\n"
          ]
        }
      ]
    },
    {
      "cell_type": "code",
      "source": [
        "score = int(input('점수입력>> '))\n",
        "\n",
        "if score >= 100:\n",
        "    print(f' {score} 점은 A학점 입니다.')\n",
        "elif score >=80:\n",
        "    print(f'{score} 점은 B학점 입니다.')\n",
        "elif score >=70:\n",
        "    print(f'{score} 점은 C학점 입니다.')\n",
        "elif score >=60:\n",
        "    print(f'{score} 점은 D학점 입니다.')\n",
        "elif score < 60:\n",
        "    print(f'{score} 점은 F학점 입니다.')\n",
        "    "
      ],
      "metadata": {
        "colab": {
          "base_uri": "https://localhost:8080/"
        },
        "id": "qlQZaBkP0TOU",
        "outputId": "9329983b-3da2-406f-982b-a5c6f3713609"
      },
      "execution_count": null,
      "outputs": [
        {
          "output_type": "stream",
          "name": "stdout",
          "text": [
            "점수입력>> 80\n",
            "80 점은 B학점 입니다.\n"
          ]
        }
      ]
    },
    {
      "cell_type": "code",
      "source": [
        "coin = int(input('insert coin >> '))\n",
        "choice = int(input('메뉴선택 >> '))\n",
        "choice1 = 600\n",
        "choice2= 800\n",
        "choice3 = 1000\n",
        "\n",
        "\n",
        "if choice1 ==1:\n",
        "   charge1= coin-choice1\n",
        "   print(f'잔돈은 1000원 {charge1//1000}개, 500원{charge1//500}개, 100원{charge1//100}개' ) \n",
        "elif choice2 == 2:\n",
        "    charge2= coin-choice2\n",
        "    print(f'잔돈은 1000원 {charge2//1000}개, 500원{charge2//500}개, 100원{charge2//100}개' ) \n",
        "elif choice3 ==3:\n",
        "    charge3= coin-choice3\n",
        "    print(f'잔돈은 1000원 {charge3//1000}개, 500원{charge3//500}개, 100원{charge3//100}개' )\n"
      ],
      "metadata": {
        "colab": {
          "base_uri": "https://localhost:8080/"
        },
        "id": "a3OhJi3g4Is1",
        "outputId": "e47ddffa-591c-405c-c463-8557f069b702"
      },
      "execution_count": null,
      "outputs": [
        {
          "name": "stdout",
          "output_type": "stream",
          "text": [
            "insert coin >> 2000\n",
            "메뉴선택 >> 2\n"
          ]
        }
      ]
    },
    {
      "cell_type": "code",
      "source": [
        "coin = int(input('insert coin >> '))\n",
        "choice = int(input('메뉴선택 >> '))\n",
        "choice = i\n",
        "choice1 = 600\n",
        "choice2= 800\n",
        "choice3 = 1000\n",
        "\n",
        "charge= coin-choice\n",
        "th=charge//1000\n",
        "h5=charge%1000//500\n",
        "h=charge%500//100\n",
        "\n",
        "\n",
        "if choice ==1:\n",
        "    print('잔돈 1000원 %d개, 500원 %d개, 100원 %d개'%(th,h5,h)) \n",
        "elif choice == 2:\n",
        "    print('잔돈 1000원 %d개, 500원 %d개, 100원 %d개'%(th,h5,h))\n",
        "elif choice ==3:\n",
        "    print('잔돈 1000원 %d개, 500원 %d개, 100원 %d개'%(th,h5,h))  \n"
      ],
      "metadata": {
        "colab": {
          "base_uri": "https://localhost:8080/"
        },
        "id": "KwEGtf-hBJ5S",
        "outputId": "bbfe5091-1062-4feb-9157-dc0a0f93a97f"
      },
      "execution_count": null,
      "outputs": [
        {
          "name": "stdout",
          "output_type": "stream",
          "text": [
            "insert coin >> 1800\n",
            "메뉴선택 >> 1\n"
          ]
        }
      ]
    },
    {
      "cell_type": "code",
      "source": [
        "a = []\n",
        "b= [1,2,3]\n",
        "c=['my', 'name']\n",
        "d=[1,2,'my', 'name']\n",
        "e=[1,2, ['my', 'name']]\n",
        "print(e)"
      ],
      "metadata": {
        "colab": {
          "base_uri": "https://localhost:8080/"
        },
        "id": "GKJBUF8Nfo8V",
        "outputId": "46f8dffa-2540-4e9c-fff1-e3341bcdb292"
      },
      "execution_count": null,
      "outputs": [
        {
          "output_type": "stream",
          "name": "stdout",
          "text": [
            "[1, 2, ['my', 'name']]\n"
          ]
        }
      ]
    },
    {
      "cell_type": "code",
      "source": [
        "list1=[2,5,7,9,10]\n",
        "print(list1[0])\n",
        "print(list1[2])\n",
        "print(list1[2]+list1[-1])"
      ],
      "metadata": {
        "colab": {
          "base_uri": "https://localhost:8080/"
        },
        "id": "rGwjxMKMeqEI",
        "outputId": "3b28560d-cd54-4476-93da-51a4e13a1517"
      },
      "execution_count": null,
      "outputs": [
        {
          "output_type": "stream",
          "name": "stdout",
          "text": [
            "2\n",
            "7\n",
            "17\n"
          ]
        }
      ]
    },
    {
      "cell_type": "code",
      "source": [
        "list2 = [1, 2, 3, ['a','b','c']]\n",
        "list2\n"
      ],
      "metadata": {
        "colab": {
          "base_uri": "https://localhost:8080/"
        },
        "id": "Rdeg3j-NeuAp",
        "outputId": "01803b2d-3646-4229-d251-17a16058c48a"
      },
      "execution_count": null,
      "outputs": [
        {
          "output_type": "execute_result",
          "data": {
            "text/plain": [
              "[1, 2, 3, ['a', 'b', 'c']]"
            ]
          },
          "metadata": {},
          "execution_count": 6
        }
      ]
    },
    {
      "cell_type": "code",
      "source": [
        "\n",
        "temp = list2[3]\n",
        "print(temp)"
      ],
      "metadata": {
        "colab": {
          "base_uri": "https://localhost:8080/"
        },
        "id": "Cq3_moXfe3yF",
        "outputId": "127703d3-d9cd-43de-b069-04d2074267d0"
      },
      "execution_count": null,
      "outputs": [
        {
          "output_type": "stream",
          "name": "stdout",
          "text": [
            "['a', 'b', 'c']\n"
          ]
        }
      ]
    },
    {
      "cell_type": "code",
      "source": [
        "#b를 출력하기\n",
        "print(temp[1])\n",
        "print(list2[3][1])"
      ],
      "metadata": {
        "colab": {
          "base_uri": "https://localhost:8080/"
        },
        "id": "aLs-rQD0e1-3",
        "outputId": "2c4d579b-5043-4490-d056-90451ddfe58d"
      },
      "execution_count": null,
      "outputs": [
        {
          "output_type": "stream",
          "name": "stdout",
          "text": [
            "b\n",
            "b\n"
          ]
        }
      ]
    },
    {
      "cell_type": "code",
      "source": [
        "list3 = [0, 1, 2, 3, 4] \n",
        "print(list3[1:3])\n",
        "print(list3[:2])\n",
        "print(list3[3:4])"
      ],
      "metadata": {
        "colab": {
          "base_uri": "https://localhost:8080/"
        },
        "id": "wPdhT3VFe8cP",
        "outputId": "3eb63958-ae5c-421e-d810-c4ce856160ce"
      },
      "execution_count": null,
      "outputs": [
        {
          "output_type": "stream",
          "name": "stdout",
          "text": [
            "[1, 2]\n",
            "[0, 1]\n",
            "[3]\n"
          ]
        }
      ]
    },
    {
      "cell_type": "code",
      "source": [
        "list4=[1, 2, 3]\n",
        "list5=[3, 4, 5, 6]\n",
        "list4+ list5"
      ],
      "metadata": {
        "colab": {
          "base_uri": "https://localhost:8080/"
        },
        "id": "5HbTMnMdfBS4",
        "outputId": "6d8b781b-e7db-4656-9a0d-3539a0c31c79"
      },
      "execution_count": null,
      "outputs": [
        {
          "output_type": "execute_result",
          "data": {
            "text/plain": [
              "[1, 2, 3, 3, 4, 5, 6]"
            ]
          },
          "metadata": {},
          "execution_count": 9
        }
      ]
    },
    {
      "cell_type": "code",
      "source": [
        "list6=[0, 1, 2, 3, 4]\n",
        "list6.append(5)\n",
        "print(list6)"
      ],
      "metadata": {
        "colab": {
          "base_uri": "https://localhost:8080/"
        },
        "id": "IQ93q0rufEac",
        "outputId": "2da8f8db-d795-49c8-febf-e68a388a6e95"
      },
      "execution_count": null,
      "outputs": [
        {
          "output_type": "stream",
          "name": "stdout",
          "text": [
            "[0, 1, 2, 3, 4, 5]\n"
          ]
        }
      ]
    },
    {
      "cell_type": "code",
      "source": [
        "fruit_list=['사과', '포도', ['수박', '멜론'], '복숭아', '딸기', '오렌지']\n",
        "\n",
        "choice_list=[]\n",
        "choice_list.append(fruit_list[0])\n",
        "choice_list.append(fruit_list[-1])\n",
        "choice_list.append(fruit_list[2][0])\n",
        "choice_list"
      ],
      "metadata": {
        "colab": {
          "base_uri": "https://localhost:8080/"
        },
        "id": "gdXSxubkfGy4",
        "outputId": "597b3825-f83b-4d28-d15b-e0b4e0b02e2e"
      },
      "execution_count": null,
      "outputs": [
        {
          "output_type": "execute_result",
          "data": {
            "text/plain": [
              "['사과', '오렌지', '수박']"
            ]
          },
          "metadata": {},
          "execution_count": 11
        }
      ]
    },
    {
      "cell_type": "code",
      "source": [
        "list5 = [0, 1, 2, 3, 4]\n",
        "list5.insert(1,5)\n",
        "print(list5)"
      ],
      "metadata": {
        "colab": {
          "base_uri": "https://localhost:8080/"
        },
        "id": "kIAZRApxfKWT",
        "outputId": "3a1385a4-3e42-4799-ade9-a3640a0850c8"
      },
      "execution_count": null,
      "outputs": [
        {
          "output_type": "stream",
          "name": "stdout",
          "text": [
            "[0, 5, 1, 2, 3, 4]\n"
          ]
        }
      ]
    },
    {
      "cell_type": "code",
      "source": [
        "list5.insert(5,6)\n",
        "print(list5)"
      ],
      "metadata": {
        "colab": {
          "base_uri": "https://localhost:8080/"
        },
        "id": "kLxK8buafNHu",
        "outputId": "6398df0b-239c-4426-ae61-51cc9d648fbf"
      },
      "execution_count": null,
      "outputs": [
        {
          "output_type": "stream",
          "name": "stdout",
          "text": [
            "[0, 5, 1, 2, 3, 6, 4]\n"
          ]
        }
      ]
    },
    {
      "cell_type": "code",
      "source": [
        "music_list=[['butter','bts'],['헤픈우연','헤이즈'],['라일락','아이유']]\n",
        "\n",
        "loc = int(input('인덱스 위치 입력 >> '))\n",
        "song= input('노래 제목 입력 >> ')\n",
        "singer= input('가수 입력 >> ')\n",
        "\n",
        "music_list.insert(loc, [song, singer])\n",
        "\n",
        "print('music_list: ',music_list)"
      ],
      "metadata": {
        "colab": {
          "base_uri": "https://localhost:8080/"
        },
        "id": "0HLxgqfgfQIn",
        "outputId": "b70c3c92-6472-40a2-869e-6ab9f706a499"
      },
      "execution_count": null,
      "outputs": [
        {
          "output_type": "stream",
          "name": "stdout",
          "text": [
            "인덱스 위치 입력 >> 3\n",
            "노래 제목 입력 >> 삐삐\n",
            "가수 입력 >> 아이유\n",
            "music_list:  [['butter', 'bts'], ['헤픈우연', '헤이즈'], ['라일락', '아이유'], ['삐삐', '아이유']]\n"
          ]
        }
      ]
    }
  ]
}